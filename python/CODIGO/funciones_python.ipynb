{
 "cells": [
  {
   "cell_type": "markdown",
   "id": "0647cdff",
   "metadata": {},
   "source": [
    "## Funciones de Python"
   ]
  },
  {
   "cell_type": "markdown",
   "id": "4cac54a4",
   "metadata": {},
   "source": [
    "**FUNCIONES**\n",
    "- map\n",
    "- filter\n",
    "- reduce"
   ]
  },
  {
   "cell_type": "code",
   "execution_count": 24,
   "id": "4ff5d2de",
   "metadata": {},
   "outputs": [],
   "source": [
    "#import random\n",
    "#import functools\n",
    "\n",
    "from random import randint\n",
    "\n",
    "# from modulo import funcion\n",
    "from functools import reduce"
   ]
  },
  {
   "cell_type": "code",
   "execution_count": 14,
   "id": "2f8ce94c",
   "metadata": {},
   "outputs": [],
   "source": [
    "L = [1,34,5,6,7,8,2]"
   ]
  },
  {
   "cell_type": "code",
   "execution_count": 3,
   "id": "481c233b",
   "metadata": {},
   "outputs": [
    {
     "data": {
      "text/plain": [
       "[1, 34, 5, 6, 7, 8, 2]"
      ]
     },
     "execution_count": 3,
     "metadata": {},
     "output_type": "execute_result"
    }
   ],
   "source": [
    "L"
   ]
  },
  {
   "cell_type": "code",
   "execution_count": 4,
   "id": "d325e879",
   "metadata": {},
   "outputs": [],
   "source": [
    "def cuadrado(n):\n",
    "    return n**2"
   ]
  },
  {
   "cell_type": "code",
   "execution_count": 5,
   "id": "55322c3c",
   "metadata": {},
   "outputs": [
    {
     "data": {
      "text/plain": [
       "25"
      ]
     },
     "execution_count": 5,
     "metadata": {},
     "output_type": "execute_result"
    }
   ],
   "source": [
    "cuadrado(5)"
   ]
  },
  {
   "cell_type": "code",
   "execution_count": 6,
   "id": "29a87515",
   "metadata": {},
   "outputs": [
    {
     "data": {
      "text/plain": [
       "[1, 1156, 25, 36, 49, 64, 4]"
      ]
     },
     "execution_count": 6,
     "metadata": {},
     "output_type": "execute_result"
    }
   ],
   "source": [
    "L2 = []\n",
    "for i in L:\n",
    "    L2.append(cuadrado(i))\n",
    "L2"
   ]
  },
  {
   "cell_type": "code",
   "execution_count": 7,
   "id": "cb7f013e",
   "metadata": {},
   "outputs": [
    {
     "data": {
      "text/plain": [
       "[1, 1156, 25, 36, 49, 64, 4]"
      ]
     },
     "execution_count": 7,
     "metadata": {},
     "output_type": "execute_result"
    }
   ],
   "source": [
    "L3 = list(map(cuadrado, L))\n",
    "L3"
   ]
  },
  {
   "cell_type": "code",
   "execution_count": 25,
   "id": "ef6a5732",
   "metadata": {},
   "outputs": [
    {
     "data": {
      "text/plain": [
       "[22, 24, 29, 23, 29]"
      ]
     },
     "execution_count": 25,
     "metadata": {},
     "output_type": "execute_result"
    }
   ],
   "source": [
    "L = []\n",
    "for i in range(25):\n",
    "    L.append(randint(1,50))\n",
    "L[:5]"
   ]
  },
  {
   "cell_type": "code",
   "execution_count": 12,
   "id": "dc118868",
   "metadata": {},
   "outputs": [],
   "source": [
    "def multiplo10(n):\n",
    "    return n % 10 == 0"
   ]
  },
  {
   "cell_type": "code",
   "execution_count": 13,
   "id": "ca94eeeb",
   "metadata": {},
   "outputs": [
    {
     "data": {
      "text/plain": [
       "[30, 40, 50, 50]"
      ]
     },
     "execution_count": 13,
     "metadata": {},
     "output_type": "execute_result"
    }
   ],
   "source": [
    "L2 = list(filter(multiplo10, L))\n",
    "L2"
   ]
  },
  {
   "cell_type": "markdown",
   "id": "f5ce4992",
   "metadata": {},
   "source": [
    "Ejemplo List Compre. equivalente a la función map"
   ]
  },
  {
   "cell_type": "code",
   "execution_count": 15,
   "id": "aac5e839",
   "metadata": {},
   "outputs": [
    {
     "data": {
      "text/plain": [
       "[1, 34, 5, 6, 7, 8, 2]"
      ]
     },
     "execution_count": 15,
     "metadata": {},
     "output_type": "execute_result"
    }
   ],
   "source": [
    "L"
   ]
  },
  {
   "cell_type": "code",
   "execution_count": 16,
   "id": "2e2cd059",
   "metadata": {},
   "outputs": [
    {
     "data": {
      "text/plain": [
       "[1, 1156, 25, 36, 49, 64, 4]"
      ]
     },
     "execution_count": 16,
     "metadata": {},
     "output_type": "execute_result"
    }
   ],
   "source": [
    "L4 = [cuadrado(i) for i in L]\n",
    "L4"
   ]
  },
  {
   "cell_type": "code",
   "execution_count": 17,
   "id": "78c6a436",
   "metadata": {},
   "outputs": [
    {
     "data": {
      "text/plain": [
       "[1, 1156, 25, 36, 49, 64, 4]"
      ]
     },
     "execution_count": 17,
     "metadata": {},
     "output_type": "execute_result"
    }
   ],
   "source": [
    "L5 = [i**2 for i in L]\n",
    "L5"
   ]
  },
  {
   "cell_type": "code",
   "execution_count": 18,
   "id": "68c44a22",
   "metadata": {},
   "outputs": [
    {
     "data": {
      "text/plain": [
       "{1, 4, 25, 36, 49, 64, 1156}"
      ]
     },
     "execution_count": 18,
     "metadata": {},
     "output_type": "execute_result"
    }
   ],
   "source": [
    "c = {i**2 for i in L}\n",
    "c"
   ]
  },
  {
   "cell_type": "markdown",
   "id": "3c98355b",
   "metadata": {},
   "source": [
    "** Equivalente de filter con list compre."
   ]
  },
  {
   "cell_type": "code",
   "execution_count": 20,
   "id": "fa73912f",
   "metadata": {},
   "outputs": [
    {
     "data": {
      "text/plain": [
       "[32, 1, 25, 1, 9, 8, 20, 12, 28, 39]"
      ]
     },
     "execution_count": 20,
     "metadata": {},
     "output_type": "execute_result"
    }
   ],
   "source": [
    "L[:10]"
   ]
  },
  {
   "cell_type": "code",
   "execution_count": 21,
   "id": "e777ce7c",
   "metadata": {},
   "outputs": [
    {
     "data": {
      "text/plain": [
       "[20]"
      ]
     },
     "execution_count": 21,
     "metadata": {},
     "output_type": "execute_result"
    }
   ],
   "source": [
    "L6 = [i for i in L if multiplo10(i)]\n",
    "L6"
   ]
  },
  {
   "cell_type": "code",
   "execution_count": 22,
   "id": "2a491008",
   "metadata": {},
   "outputs": [
    {
     "data": {
      "text/plain": [
       "[20]"
      ]
     },
     "execution_count": 22,
     "metadata": {},
     "output_type": "execute_result"
    }
   ],
   "source": [
    "L7 = [i for i in L if i % 10 == 0]\n",
    "L7"
   ]
  },
  {
   "cell_type": "markdown",
   "id": "ac933dec",
   "metadata": {},
   "source": [
    "Reducir una lista con la función reduce sumando de dos en dos los números de la lista:"
   ]
  },
  {
   "cell_type": "code",
   "execution_count": 26,
   "id": "e6e4e6a9",
   "metadata": {},
   "outputs": [
    {
     "name": "stdout",
     "output_type": "stream",
     "text": [
      "22 24\n",
      "46 29\n",
      "75 23\n",
      "98 29\n",
      "127 4\n",
      "131 8\n",
      "139 44\n",
      "183 36\n",
      "219 39\n",
      "258 16\n",
      "274 36\n",
      "310 38\n",
      "348 7\n",
      "355 42\n",
      "397 27\n",
      "424 17\n",
      "441 42\n",
      "483 14\n",
      "497 34\n",
      "531 14\n",
      "545 8\n",
      "553 41\n",
      "594 13\n",
      "607 3\n",
      "[22, 24, 29, 23, 29, 4, 8, 44, 36, 39, 16, 36, 38, 7, 42, 27, 17, 42, 14, 34, 14, 8, 41, 13, 3]\n",
      "610\n"
     ]
    }
   ],
   "source": [
    "def sumar(a,b):\n",
    "    print(a,b)\n",
    "    return a+b\n",
    "\n",
    "val = reduce(sumar, L)\n",
    "print(L)\n",
    "print(val)"
   ]
  },
  {
   "cell_type": "code",
   "execution_count": 27,
   "id": "40cdb61a",
   "metadata": {},
   "outputs": [],
   "source": [
    "L = [{'nivel_est':3, 'expe':10},{'nivel_est':2, 'expe':20},\n",
    "    {'nivel_est':3, 'expe':15},{'nivel_est':1, 'expe':10},\n",
    "    {'nivel_est':2, 'expe':22}]"
   ]
  },
  {
   "cell_type": "code",
   "execution_count": 30,
   "id": "56060de1",
   "metadata": {},
   "outputs": [],
   "source": [
    "def mejorCandidato(c1, c2):\n",
    "    print(c1,c2)\n",
    "    if c1['nivel_est'] > c2['nivel_est']:\n",
    "        return c1\n",
    "    \n",
    "    elif c1['nivel_est'] < c2['nivel_est']:\n",
    "        return c2\n",
    "    \n",
    "    else:\n",
    "        if c1['expe'] > c2['expe']:\n",
    "            return c1\n",
    "        else:\n",
    "            return c2"
   ]
  },
  {
   "cell_type": "code",
   "execution_count": 31,
   "id": "9ede3252",
   "metadata": {},
   "outputs": [
    {
     "name": "stdout",
     "output_type": "stream",
     "text": [
      "{'nivel_est': 3, 'expe': 10} {'nivel_est': 2, 'expe': 20}\n",
      "{'nivel_est': 3, 'expe': 10} {'nivel_est': 3, 'expe': 15}\n",
      "{'nivel_est': 3, 'expe': 15} {'nivel_est': 1, 'expe': 10}\n",
      "{'nivel_est': 3, 'expe': 15} {'nivel_est': 2, 'expe': 22}\n"
     ]
    },
    {
     "data": {
      "text/plain": [
       "{'nivel_est': 3, 'expe': 15}"
      ]
     },
     "execution_count": 31,
     "metadata": {},
     "output_type": "execute_result"
    }
   ],
   "source": [
    "mejor = reduce(mejorCandidato, L)\n",
    "mejor"
   ]
  },
  {
   "cell_type": "code",
   "execution_count": null,
   "id": "c6c5069d",
   "metadata": {},
   "outputs": [],
   "source": []
  }
 ],
 "metadata": {
  "kernelspec": {
   "display_name": "Python 3",
   "language": "python",
   "name": "python3"
  },
  "language_info": {
   "codemirror_mode": {
    "name": "ipython",
    "version": 3
   },
   "file_extension": ".py",
   "mimetype": "text/x-python",
   "name": "python",
   "nbconvert_exporter": "python",
   "pygments_lexer": "ipython3",
   "version": "3.9.5"
  }
 },
 "nbformat": 4,
 "nbformat_minor": 5
}
