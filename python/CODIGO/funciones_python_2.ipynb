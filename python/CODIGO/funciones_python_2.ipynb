{
 "cells": [
  {
   "cell_type": "markdown",
   "id": "c84314eb",
   "metadata": {},
   "source": [
    "## Funciones de Python"
   ]
  },
  {
   "cell_type": "markdown",
   "id": "61e403e8",
   "metadata": {},
   "source": [
    "zip, all, any"
   ]
  },
  {
   "cell_type": "code",
   "execution_count": 6,
   "id": "8be9c358",
   "metadata": {},
   "outputs": [
    {
     "name": "stdout",
     "output_type": "stream",
     "text": [
      "[1, 4, 5, 6, 7]\n",
      "['a', 'd', 'i', 'o', 's']\n",
      "['A', 'E', 'I', 'O']\n"
     ]
    }
   ],
   "source": [
    "L1 = [1, 4, 5, 6, 7]\n",
    "L2 = list('adios')\n",
    "L3 = list('AEIO')\n",
    "print(L1)\n",
    "print(L2)\n",
    "print(L3)"
   ]
  },
  {
   "cell_type": "code",
   "execution_count": 7,
   "id": "53f40910",
   "metadata": {},
   "outputs": [
    {
     "data": {
      "text/plain": [
       "[(1, 'a', 'A'), (4, 'd', 'E'), (5, 'i', 'I'), (6, 'o', 'O')]"
      ]
     },
     "execution_count": 7,
     "metadata": {},
     "output_type": "execute_result"
    }
   ],
   "source": [
    "resul = list(zip(L1, L2, L3))\n",
    "resul"
   ]
  },
  {
   "cell_type": "code",
   "execution_count": 8,
   "id": "af334c60",
   "metadata": {},
   "outputs": [
    {
     "data": {
      "text/plain": [
       "True"
      ]
     },
     "execution_count": 8,
     "metadata": {},
     "output_type": "execute_result"
    }
   ],
   "source": [
    "L = [2,4,5,6,4,2,1,1,2,4,5]\n",
    "resul = all(L)\n",
    "resul"
   ]
  },
  {
   "cell_type": "code",
   "execution_count": 9,
   "id": "f5486ac8",
   "metadata": {},
   "outputs": [
    {
     "data": {
      "text/plain": [
       "False"
      ]
     },
     "execution_count": 9,
     "metadata": {},
     "output_type": "execute_result"
    }
   ],
   "source": [
    "L = [123,0,5]\n",
    "resul = all(L)\n",
    "resul"
   ]
  },
  {
   "cell_type": "code",
   "execution_count": 10,
   "id": "ef1b005e",
   "metadata": {},
   "outputs": [
    {
     "data": {
      "text/plain": [
       "(False, False, False, False)"
      ]
     },
     "execution_count": 10,
     "metadata": {},
     "output_type": "execute_result"
    }
   ],
   "source": [
    "bool(0), bool(None), bool(\"\"), bool([])"
   ]
  },
  {
   "cell_type": "code",
   "execution_count": 11,
   "id": "22e004c2",
   "metadata": {},
   "outputs": [
    {
     "data": {
      "text/plain": [
       "(True, True, True)"
      ]
     },
     "execution_count": 11,
     "metadata": {},
     "output_type": "execute_result"
    }
   ],
   "source": [
    "bool(10), bool(\"hola\"), bool([1,2,6])"
   ]
  },
  {
   "cell_type": "code",
   "execution_count": 12,
   "id": "5bc9386d",
   "metadata": {},
   "outputs": [
    {
     "data": {
      "text/plain": [
       "True"
      ]
     },
     "execution_count": 12,
     "metadata": {},
     "output_type": "execute_result"
    }
   ],
   "source": [
    "any(L)"
   ]
  },
  {
   "cell_type": "markdown",
   "id": "2eb68b14",
   "metadata": {},
   "source": [
    "Redondear con round, ceil, floor"
   ]
  },
  {
   "cell_type": "code",
   "execution_count": 14,
   "id": "8fbfaf9c",
   "metadata": {},
   "outputs": [
    {
     "name": "stdout",
     "output_type": "stream",
     "text": [
      "23.57\n",
      "24\n",
      "23\n"
     ]
    }
   ],
   "source": [
    "from math import ceil, floor\n",
    "\n",
    "print(round(23.567, 2))\n",
    "print(ceil(23.001)) # redondeo al alza\n",
    "print(floor(23.9999)) # Redondeo a la baja"
   ]
  },
  {
   "cell_type": "code",
   "execution_count": 16,
   "id": "bb9972dc",
   "metadata": {},
   "outputs": [
    {
     "data": {
      "text/plain": [
       "(1, 89)"
      ]
     },
     "execution_count": 16,
     "metadata": {},
     "output_type": "execute_result"
    }
   ],
   "source": [
    "L = (4,6,3,2,1,89)\n",
    "min(L), max(L)"
   ]
  },
  {
   "cell_type": "markdown",
   "id": "80c1e66c",
   "metadata": {},
   "source": [
    "La función sorted para ordenar colecciones."
   ]
  },
  {
   "cell_type": "code",
   "execution_count": 17,
   "id": "7ebc9abb",
   "metadata": {},
   "outputs": [
    {
     "data": {
      "text/plain": [
       "[-5, 1, 2, 3, 3, 4, 5, 7, 8]"
      ]
     },
     "execution_count": 17,
     "metadata": {},
     "output_type": "execute_result"
    }
   ],
   "source": [
    "t = (4,3,5,7,8,1,2,3,-5)\n",
    "L = sorted(t)\n",
    "L"
   ]
  },
  {
   "cell_type": "code",
   "execution_count": 18,
   "id": "20c5161e",
   "metadata": {},
   "outputs": [
    {
     "data": {
      "text/plain": [
       "[8, 7, 5, 4, 3, 3, 2, 1, -5]"
      ]
     },
     "execution_count": 18,
     "metadata": {},
     "output_type": "execute_result"
    }
   ],
   "source": [
    "L2 = sorted(t, reverse=True)\n",
    "L2"
   ]
  },
  {
   "cell_type": "code",
   "execution_count": 19,
   "id": "a00c9f0d",
   "metadata": {},
   "outputs": [
    {
     "data": {
      "text/plain": [
       "['Ana María', 'Andrés', 'Belén', 'Jose Manuel']"
      ]
     },
     "execution_count": 19,
     "metadata": {},
     "output_type": "execute_result"
    }
   ],
   "source": [
    "c = {\"Jose Manuel\",\"Ana María\",\"Belén\",\"Andrés\"}\n",
    "L3 = sorted(c)\n",
    "L3"
   ]
  },
  {
   "cell_type": "code",
   "execution_count": 20,
   "id": "0c8c3aed",
   "metadata": {},
   "outputs": [
    {
     "data": {
      "text/plain": [
       "['Belén', 'Andrés', 'Ana María', 'Jose Manuel']"
      ]
     },
     "execution_count": 20,
     "metadata": {},
     "output_type": "execute_result"
    }
   ],
   "source": [
    "L4 = sorted(c, key=len)\n",
    "L4"
   ]
  },
  {
   "cell_type": "code",
   "execution_count": 21,
   "id": "b647c5af",
   "metadata": {},
   "outputs": [
    {
     "data": {
      "text/plain": [
       "['Jose Manuel', 'Belén', 'Andrés', 'Ana María']"
      ]
     },
     "execution_count": 21,
     "metadata": {},
     "output_type": "execute_result"
    }
   ],
   "source": [
    "L4.sort(reverse=True)\n",
    "L4"
   ]
  },
  {
   "cell_type": "code",
   "execution_count": 22,
   "id": "bca52cb2",
   "metadata": {},
   "outputs": [
    {
     "name": "stdout",
     "output_type": "stream",
     "text": [
      "{'A': 1, 'B': 3, 'C': 4, 'D': 5, 'E': 6}\n"
     ]
    }
   ],
   "source": [
    "s = \"ABCDE\"\n",
    "L = [1,3,4,5,6]\n",
    "d = dict(zip(s, L))\n",
    "print(d)"
   ]
  },
  {
   "cell_type": "code",
   "execution_count": 23,
   "id": "4aacf6e8",
   "metadata": {},
   "outputs": [
    {
     "data": {
      "text/plain": [
       "['E', 'D', 'C', 'B', 'A']"
      ]
     },
     "execution_count": 23,
     "metadata": {},
     "output_type": "execute_result"
    }
   ],
   "source": [
    "# Ordenar el diccionario DESC por la clave:\n",
    "L = sorted(d, reverse=True)\n",
    "L"
   ]
  },
  {
   "cell_type": "code",
   "execution_count": 24,
   "id": "a7a79729",
   "metadata": {},
   "outputs": [
    {
     "data": {
      "text/plain": [
       "[6, 5, 4, 3, 1]"
      ]
     },
     "execution_count": 24,
     "metadata": {},
     "output_type": "execute_result"
    }
   ],
   "source": [
    "L2 = sorted(d.values(), reverse=True)\n",
    "L2"
   ]
  },
  {
   "cell_type": "code",
   "execution_count": null,
   "id": "8a573cf4",
   "metadata": {},
   "outputs": [],
   "source": []
  }
 ],
 "metadata": {
  "kernelspec": {
   "display_name": "Python 3",
   "language": "python",
   "name": "python3"
  },
  "language_info": {
   "codemirror_mode": {
    "name": "ipython",
    "version": 3
   },
   "file_extension": ".py",
   "mimetype": "text/x-python",
   "name": "python",
   "nbconvert_exporter": "python",
   "pygments_lexer": "ipython3",
   "version": "3.9.5"
  }
 },
 "nbformat": 4,
 "nbformat_minor": 5
}
