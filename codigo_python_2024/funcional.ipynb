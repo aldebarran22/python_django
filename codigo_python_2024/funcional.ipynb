{
 "cells": [
  {
   "cell_type": "markdown",
   "id": "412b7c6b",
   "metadata": {},
   "source": [
    "## Programación funcional en Python"
   ]
  },
  {
   "cell_type": "markdown",
   "id": "5771bb08",
   "metadata": {},
   "source": [
    "### Iteradores: map, filter, reduce, list compre."
   ]
  },
  {
   "cell_type": "code",
   "execution_count": 1,
   "id": "b2472ea9",
   "metadata": {},
   "outputs": [],
   "source": [
    "import random"
   ]
  },
  {
   "cell_type": "code",
   "execution_count": 2,
   "id": "b1e4968b",
   "metadata": {},
   "outputs": [],
   "source": [
    "L = [1,2,3,4,5,6]"
   ]
  },
  {
   "cell_type": "code",
   "execution_count": 3,
   "id": "41fdea57",
   "metadata": {},
   "outputs": [],
   "source": [
    "L"
   ]
  }
 ],
 "metadata": {
  "kernelspec": {
   "display_name": "Python 3 (ipykernel)",
   "language": "python",
   "name": "python3"
  },
  "language_info": {
   "codemirror_mode": {
    "name": "ipython",
    "version": 3
   },
   "file_extension": ".py",
   "mimetype": "text/x-python",
   "name": "python",
   "nbconvert_exporter": "python",
   "pygments_lexer": "ipython3",
   "version": "3.8.5"
  }
 },
 "nbformat": 4,
 "nbformat_minor": 5
}
