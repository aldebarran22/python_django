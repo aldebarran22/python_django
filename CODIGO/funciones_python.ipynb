{
 "cells": [
  {
   "cell_type": "markdown",
   "id": "0647cdff",
   "metadata": {},
   "source": [
    "## Funciones de Python"
   ]
  },
  {
   "cell_type": "code",
   "execution_count": 1,
   "id": "4ff5d2de",
   "metadata": {},
   "outputs": [],
   "source": [
    "import random"
   ]
  },
  {
   "cell_type": "code",
   "execution_count": 14,
   "id": "2f8ce94c",
   "metadata": {},
   "outputs": [],
   "source": [
    "L = [1,34,5,6,7,8,2]"
   ]
  },
  {
   "cell_type": "code",
   "execution_count": 3,
   "id": "481c233b",
   "metadata": {},
   "outputs": [
    {
     "data": {
      "text/plain": [
       "[1, 34, 5, 6, 7, 8, 2]"
      ]
     },
     "execution_count": 3,
     "metadata": {},
     "output_type": "execute_result"
    }
   ],
   "source": [
    "L"
   ]
  },
  {
   "cell_type": "code",
   "execution_count": 4,
   "id": "d325e879",
   "metadata": {},
   "outputs": [],
   "source": [
    "def cuadrado(n):\n",
    "    return n**2"
   ]
  },
  {
   "cell_type": "code",
   "execution_count": 5,
   "id": "55322c3c",
   "metadata": {},
   "outputs": [
    {
     "data": {
      "text/plain": [
       "25"
      ]
     },
     "execution_count": 5,
     "metadata": {},
     "output_type": "execute_result"
    }
   ],
   "source": [
    "cuadrado(5)"
   ]
  },
  {
   "cell_type": "code",
   "execution_count": 6,
   "id": "29a87515",
   "metadata": {},
   "outputs": [
    {
     "data": {
      "text/plain": [
       "[1, 1156, 25, 36, 49, 64, 4]"
      ]
     },
     "execution_count": 6,
     "metadata": {},
     "output_type": "execute_result"
    }
   ],
   "source": [
    "L2 = []\n",
    "for i in L:\n",
    "    L2.append(cuadrado(i))\n",
    "L2"
   ]
  },
  {
   "cell_type": "code",
   "execution_count": 7,
   "id": "cb7f013e",
   "metadata": {},
   "outputs": [
    {
     "data": {
      "text/plain": [
       "[1, 1156, 25, 36, 49, 64, 4]"
      ]
     },
     "execution_count": 7,
     "metadata": {},
     "output_type": "execute_result"
    }
   ],
   "source": [
    "L3 = list(map(cuadrado, L))\n",
    "L3"
   ]
  },
  {
   "cell_type": "code",
   "execution_count": 19,
   "id": "ef6a5732",
   "metadata": {},
   "outputs": [
    {
     "data": {
      "text/plain": [
       "[32, 1, 25, 1, 9]"
      ]
     },
     "execution_count": 19,
     "metadata": {},
     "output_type": "execute_result"
    }
   ],
   "source": [
    "L = []\n",
    "for i in range(25):\n",
    "    L.append(random.randint(1,50))\n",
    "L[:5]"
   ]
  },
  {
   "cell_type": "code",
   "execution_count": 12,
   "id": "ec651cf8",
   "metadata": {},
   "outputs": [],
   "source": [
    "def multiplo10(n):\n",
    "    return n % 10 == 0"
   ]
  },
  {
   "cell_type": "code",
   "execution_count": 13,
   "id": "3015575b",
   "metadata": {},
   "outputs": [
    {
     "data": {
      "text/plain": [
       "[30, 40, 50, 50]"
      ]
     },
     "execution_count": 13,
     "metadata": {},
     "output_type": "execute_result"
    }
   ],
   "source": [
    "L2 = list(filter(multiplo10, L))\n",
    "L2"
   ]
  },
  {
   "cell_type": "markdown",
   "id": "58fe5641",
   "metadata": {},
   "source": [
    "Ejemplo List Compre. equivalente a la función map"
   ]
  },
  {
   "cell_type": "code",
   "execution_count": 15,
   "id": "1940a1e4",
   "metadata": {},
   "outputs": [
    {
     "data": {
      "text/plain": [
       "[1, 34, 5, 6, 7, 8, 2]"
      ]
     },
     "execution_count": 15,
     "metadata": {},
     "output_type": "execute_result"
    }
   ],
   "source": [
    "L"
   ]
  },
  {
   "cell_type": "code",
   "execution_count": 16,
   "id": "f83f335b",
   "metadata": {},
   "outputs": [
    {
     "data": {
      "text/plain": [
       "[1, 1156, 25, 36, 49, 64, 4]"
      ]
     },
     "execution_count": 16,
     "metadata": {},
     "output_type": "execute_result"
    }
   ],
   "source": [
    "L4 = [cuadrado(i) for i in L]\n",
    "L4"
   ]
  },
  {
   "cell_type": "code",
   "execution_count": 17,
   "id": "b692ff0a",
   "metadata": {},
   "outputs": [
    {
     "data": {
      "text/plain": [
       "[1, 1156, 25, 36, 49, 64, 4]"
      ]
     },
     "execution_count": 17,
     "metadata": {},
     "output_type": "execute_result"
    }
   ],
   "source": [
    "L5 = [i**2 for i in L]\n",
    "L5"
   ]
  },
  {
   "cell_type": "code",
   "execution_count": 18,
   "id": "a343c28d",
   "metadata": {},
   "outputs": [
    {
     "data": {
      "text/plain": [
       "{1, 4, 25, 36, 49, 64, 1156}"
      ]
     },
     "execution_count": 18,
     "metadata": {},
     "output_type": "execute_result"
    }
   ],
   "source": [
    "c = {i**2 for i in L}\n",
    "c"
   ]
  },
  {
   "cell_type": "markdown",
   "id": "fd1f213b",
   "metadata": {},
   "source": [
    "Equivalente de filter con list compre."
   ]
  },
  {
   "cell_type": "code",
   "execution_count": 20,
   "id": "38795030",
   "metadata": {},
   "outputs": [
    {
     "data": {
      "text/plain": [
       "[32, 1, 25, 1, 9, 8, 20, 12, 28, 39]"
      ]
     },
     "execution_count": 20,
     "metadata": {},
     "output_type": "execute_result"
    }
   ],
   "source": [
    "L[:10]"
   ]
  },
  {
   "cell_type": "code",
   "execution_count": 21,
   "id": "2c4df575",
   "metadata": {},
   "outputs": [
    {
     "data": {
      "text/plain": [
       "[20]"
      ]
     },
     "execution_count": 21,
     "metadata": {},
     "output_type": "execute_result"
    }
   ],
   "source": [
    "L6 = [i for i in L if multiplo10(i)]\n",
    "L6"
   ]
  },
  {
   "cell_type": "code",
   "execution_count": 22,
   "id": "f7d5a47d",
   "metadata": {},
   "outputs": [
    {
     "data": {
      "text/plain": [
       "[20]"
      ]
     },
     "execution_count": 22,
     "metadata": {},
     "output_type": "execute_result"
    }
   ],
   "source": [
    "L7 = [i for i in L if i % 10 == 0]\n",
    "L7"
   ]
  },
  {
   "cell_type": "code",
   "execution_count": null,
   "id": "bcd96ca0",
   "metadata": {},
   "outputs": [],
   "source": []
  }
 ],
 "metadata": {
  "kernelspec": {
   "display_name": "Python 3",
   "language": "python",
   "name": "python3"
  },
  "language_info": {
   "codemirror_mode": {
    "name": "ipython",
    "version": 3
   },
   "file_extension": ".py",
   "mimetype": "text/x-python",
   "name": "python",
   "nbconvert_exporter": "python",
   "pygments_lexer": "ipython3",
   "version": "3.9.5"
  }
 },
 "nbformat": 4,
 "nbformat_minor": 5
}
